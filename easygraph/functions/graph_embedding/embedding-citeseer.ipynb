{
 "cells": [
  {
   "cell_type": "code",
   "execution_count": null,
   "metadata": {},
   "outputs": [],
   "source": [
    "import easygraph as eg\n",
    "import csv\n",
    "from __future__ import print_function\n",
    "import time\n",
    "\n",
    "import numpy as np\n",
    "import pandas as pd\n",
    "from sklearn.decomposition import PCA\n",
    "import matplotlib.pyplot as plt\n",
    "from mpl_toolkits.mplot3d import Axes3D\n",
    "\n",
    "import seaborn as sns\n",
    "from easygraph.functions.community import modularity, greedy_modularity_communities\n",
    "import torch\n",
    "from easygraph.functions.graph_embedding import *\n",
    "from sklearn.manifold import TSNE\n",
    "\n",
    "warnings.filterwarnings('ignore')"
   ]
  },
  {
   "cell_type": "code",
   "execution_count": null,
   "metadata": {},
   "outputs": [],
   "source": [
    "dataset = eg.CiteseerGraphDataset(force_reload=True) # Download CiteseerGraphDataset contained in EasyGraph\n",
    "num_classes = dataset.num_classes\n",
    "g = dataset[0]\n",
    "labels = g.ndata['label']"
   ]
  },
  {
   "cell_type": "markdown",
   "metadata": {},
   "source": [
    "Graph embedding via DeepWalk"
   ]
  },
  {
   "cell_type": "code",
   "execution_count": null,
   "metadata": {},
   "outputs": [],
   "source": [
    "deepwalk_emb, _ = deepwalk(g, dimensions=32, walk_length=50, num_walks=20)\n",
    "dw_emb = []\n",
    "for i in range(0, len(deepwalk_emb)):\n",
    "    dw_emb.append(list(deepwalk_emb[i]))\n",
    "dw_emb = np.array(dw_emb)\n",
    "print(dw_emb)"
   ]
  },
  {
   "cell_type": "code",
   "execution_count": null,
   "metadata": {},
   "outputs": [],
   "source": [
    "tsne = TSNE(n_components=2, verbose=1, random_state=0)\n",
    "z = tsne.fit_transform(dw_emb)\n",
    "# plt.figure(figsize=(6, 6))\n",
    "plt.scatter(z[:, 0], z[:, 1], c=labels, s=100)\n",
    "plt.savefig('deepwalk_citesee.pdf', bbox_inches='tight')\n",
    "plt.show()"
   ]
  },
  {
   "cell_type": "markdown",
   "metadata": {},
   "source": [
    "Graph embedding via Node2Vec"
   ]
  },
  {
   "cell_type": "code",
   "execution_count": null,
   "metadata": {},
   "outputs": [],
   "source": [
    "node2vec_emb, _ = node2vec(g, dimensions=32, walk_length=30, num_walks=10, p=0.25, q=4)\n",
    "n2v_emb = []\n",
    "for i in range(0, len(node2vec_emb)):\n",
    "    n2v_emb.append(list(node2vec_emb[i]))\n",
    "n2v_emb = np.array(n2v_emb)\n",
    "print(n2v_emb)\n",
    "\n",
    "tsne = TSNE(n_components=2, verbose=1, random_state=0)\n",
    "z = tsne.fit_transform(n2v_emb)\n",
    "# plt.figure(figsize=(6, 6))\n",
    "plt.scatter(z[:, 0], z[:, 1], c=labels, s=100)\n",
    "plt.savefig('n2v_citesee.pdf', bbox_inches='tight')\n",
    "plt.show()"
   ]
  },
  {
   "cell_type": "markdown",
   "metadata": {},
   "source": [
    "Graph embedding via LINE"
   ]
  },
  {
   "cell_type": "code",
   "execution_count": null,
   "metadata": {},
   "outputs": [],
   "source": [
    "model = LINE(g, embedding_size=32, order='second')\n",
    "model.train(batch_size=64, epochs=1, verbose=2)\n",
    "line_emb = model.get_embeddings()\n",
    "\n",
    "l_emb = []\n",
    "for i in range(0, len(line_emb)):\n",
    "    l_emb.append(list(line_emb[i]))\n",
    "l_emb = np.array(l_emb)\n",
    "print(l_emb)\n",
    "\n",
    "tsne = TSNE(n_components=2, verbose=1, random_state=0)\n",
    "z = tsne.fit_transform(l_emb)\n",
    "# plt.figure(figsize=(6, 6))\n",
    "plt.scatter(z[:, 0], z[:, 1], c=labels, s=100)\n",
    "plt.savefig('line_citesee.pdf', bbox_inches='tight')\n",
    "plt.show()"
   ]
  },
  {
   "cell_type": "markdown",
   "metadata": {},
   "source": [
    "Graph embedding via SDNE"
   ]
  },
  {
   "cell_type": "code",
   "execution_count": null,
   "metadata": {},
   "outputs": [],
   "source": [
    "model = SDNE(g, hidden_size=[128, 32])\n",
    "model.train(batch_size=32, epochs=40, verbose=2)\n",
    "sdne_emb = model.get_embeddings()\n",
    "\n",
    "\n",
    "sd_emb = []\n",
    "for i in range(0, len(sdne_emb)):\n",
    "    sd_emb.append(list(sdne_emb[i]))\n",
    "sd_emb = np.array(sd_emb)\n",
    "print(sd_emb)\n",
    "\n",
    "tsne = TSNE(n_components=2, verbose=1, random_state=0)\n",
    "z = tsne.fit_transform(sd_emb)\n",
    "plt.scatter(z[:, 0], z[:, 1], c=labels, s=100)\n",
    "plt.savefig('sdne_citesee.pdf', bbox_inches='tight')\n",
    "plt.show()"
   ]
  }
 ],
 "metadata": {
  "language_info": {
   "name": "python"
  },
  "orig_nbformat": 4
 },
 "nbformat": 4,
 "nbformat_minor": 2
}
